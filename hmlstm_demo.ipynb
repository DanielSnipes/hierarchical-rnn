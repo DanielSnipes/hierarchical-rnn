{
 "cells": [
  {
   "cell_type": "code",
   "execution_count": 1,
   "metadata": {
    "collapsed": false,
    "deletable": true,
    "editable": true
   },
   "outputs": [],
   "source": [
    "import numpy as np\n",
    "import matplotlib.pyplot as plt\n",
    "from hmlstm_network import HMLSTMNetwork\n",
    "import tensorflow as tf\n",
    "from text_input_utils import prepare_inputs\n",
    "import tensorflow as tf\n",
    "from string import ascii_lowercase\n",
    "\n",
    "%matplotlib inline\n",
    "%load_ext autoreload\n",
    "%autoreload 2"
   ]
  },
  {
   "cell_type": "markdown",
   "metadata": {
    "deletable": true,
    "editable": true
   },
   "source": [
    "### Regression example"
   ]
  },
  {
   "cell_type": "code",
   "execution_count": 2,
   "metadata": {
    "collapsed": true,
    "deletable": true,
    "editable": true
   },
   "outputs": [],
   "source": [
    "# simulate multiresolution data\n",
    "num_signals = 100\n",
    "signal_length = 300\n",
    "x = np.linspace(0, 120 * np.pi, signal_length)\n",
    "signals = [np.random.normal(0, .5, size=signal_length) +\n",
    "           (2 * np.sin(.6 * x + np.random.random() * 100 * np.pi))\n",
    "           + (5 * np.sin(.1* x + np.random.random() * 100 * np.pi))\n",
    "           +( 10 * np.sin(.03 * x + np.random.random() * 100 * np.pi))\n",
    "    for _ in range(num_signals)]\n",
    "\n",
    "split = int(num_signals * .8)\n",
    "train = signals[:split]\n",
    "test = signals[split:]"
   ]
  },
  {
   "cell_type": "code",
   "execution_count": 3,
   "metadata": {
    "collapsed": false,
    "deletable": true,
    "editable": true
   },
   "outputs": [
    {
     "data": {
      "image/png": "[encoded data removed]",
      "text/plain": [
       "<matplotlib.figure.Figure at 0x7f2493244748>"
      ]
     },
     "metadata": {},
     "output_type": "display_data"
    }
   ],
   "source": [
    "# example signal\n",
    "plt.plot(x, signals[2]);"
   ]
  },
  {
   "cell_type": "code",
   "execution_count": 4,
   "metadata": {
    "collapsed": true,
    "deletable": true,
    "editable": true,
    "scrolled": true
   },
   "outputs": [],
   "source": [
    "# prepare data\n",
    "train_batches_in = []\n",
    "train_batches_out = []\n",
    "batch_size = 1\n",
    "start = 0\n",
    "while start + batch_size < len(train):\n",
    "    batch = train[start: start + batch_size]\n",
    "    \n",
    "    train_batches_in.append(np.array([s[:-1] for s in batch]).reshape(batch_size, -1, 1))\n",
    "    train_batches_out.append(np.array([s[1:] for s in batch]).reshape(batch_size, -1, 1))\n",
    "\n",
    "    start += batch_size\n",
    "    \n",
    "    \n",
    "batch_size = 1\n",
    "start = 0\n",
    "test_batches_in = []\n",
    "test_batches_out = []\n",
    "while start + batch_size < len(test):\n",
    "    batch = test[start: start + batch_size]\n",
    "    \n",
    "    test_batches_in.append(np.array([s[:-1] for s in batch]).reshape(batch_size, -1, 1))\n",
    "    test_batches_out.append(np.array([s[1:] for s in batch]).reshape(batch_size, -1, 1))\n",
    "\n",
    "    start += batch_size"
   ]
  },
  {
   "cell_type": "code",
   "execution_count": 5,
   "metadata": {
    "collapsed": true,
    "deletable": true,
    "editable": true
   },
   "outputs": [],
   "source": [
    "tf.reset_default_graph()\n",
    "network = HMLSTMNetwork(input_size=1, task='regression', hidden_state_sizes=100,\n",
    "                       embed_size=100, out_hidden_size=100, num_layers=3)"
   ]
  },
  {
   "cell_type": "code",
   "execution_count": 12,
   "metadata": {
    "collapsed": false,
    "deletable": true,
    "editable": true,
    "scrolled": true
   },
   "outputs": [
    {
     "name": "stdout",
     "output_type": "stream",
     "text": [
      "loading variables...\n",
      "INFO:tensorflow:Restoring parameters from ./hmlstm.ckpt\n",
      "Epoch 0\n",
      "loss: 352.278\n",
      "loss: 353.292\n",
      "loss: 353.953\n",
      "loss: 325.246\n",
      "loss: 328.067\n",
      "loss: 336.099\n",
      "loss: 332.636\n",
      "loss: 293.599\n",
      "loss: 313.406\n",
      "loss: 310.744\n",
      "loss: 321.693\n",
      "loss: 339.841\n",
      "loss: 338.556\n",
      "loss: 345.379\n",
      "loss: 339.773\n",
      "loss: 359.742\n",
      "loss: 270.099\n",
      "loss: 335.504\n",
      "loss: 300.88\n",
      "loss: 282.517\n",
      "loss: 280.845\n",
      "loss: 282.848\n",
      "loss: 328.061\n",
      "loss: 334.171\n",
      "loss: 333.858\n",
      "loss: 320.832\n",
      "loss: 278.946\n",
      "loss: 321.875\n",
      "loss: 298.715\n",
      "loss: 301.087\n",
      "loss: 323.83\n",
      "loss: 327.811\n",
      "loss: 319.874\n",
      "loss: 346.719\n",
      "loss: 364.507\n",
      "loss: 296.16\n",
      "loss: 351.404\n",
      "loss: 280.519\n",
      "loss: 309.766\n",
      "loss: 352.403\n",
      "loss: 284.048\n",
      "loss: 302.092\n",
      "loss: 307.304\n",
      "loss: 290.286\n",
      "loss: 306.229\n",
      "loss: 293.657\n",
      "loss: 308.954\n",
      "loss: 277.331\n",
      "loss: 307.96\n",
      "loss: 348.578\n",
      "loss: 315.66\n",
      "loss: 297.738\n",
      "loss: 327.923\n",
      "loss: 277.74\n",
      "loss: 259.554\n",
      "loss: 290.005\n",
      "loss: 302.157\n",
      "loss: 332.773\n",
      "loss: 269.389\n",
      "loss: 316.721\n",
      "loss: 280.943\n",
      "loss: 246.029\n",
      "loss: 297.032\n",
      "loss: 269.126\n",
      "loss: 319.056\n",
      "loss: 291.076\n",
      "loss: 229.711\n",
      "loss: 278.371\n",
      "loss: 256.886\n",
      "loss: 296.088\n",
      "loss: 269.205\n",
      "loss: 272.939\n",
      "loss: 283.718\n",
      "loss: 293.448\n",
      "loss: 281.138\n",
      "loss: 273.577\n",
      "loss: 263.374\n",
      "loss: 268.314\n",
      "loss: 245.172\n",
      "Epoch 1\n",
      "loss: 264.508\n",
      "loss: 288.152\n",
      "loss: 272.956\n",
      "loss: 273.126\n",
      "loss: 304.928\n",
      "loss: 271.095\n",
      "loss: 275.324\n",
      "loss: 221.532\n",
      "loss: 254.223\n",
      "loss: 254.043\n",
      "loss: 275.005\n",
      "loss: 295.583\n",
      "loss: 270.861\n",
      "loss: 268.804\n",
      "loss: 288.375\n",
      "loss: 276.234\n",
      "loss: 229.983\n",
      "loss: 285.053\n",
      "loss: 263.111\n",
      "loss: 229.842\n",
      "loss: 232.987\n",
      "loss: 229.398\n",
      "loss: 262.485\n",
      "loss: 276.049\n",
      "loss: 279.223\n",
      "loss: 275.035\n",
      "loss: 233.592\n",
      "loss: 260.402\n",
      "loss: 258.56\n",
      "loss: 271.277\n",
      "loss: 264.092\n",
      "loss: 248.825\n",
      "loss: 273.954\n",
      "loss: 302.279\n",
      "loss: 280.704\n",
      "loss: 255.959\n",
      "loss: 317.694\n",
      "loss: 243.817\n",
      "loss: 258.251\n",
      "loss: 312.383\n",
      "loss: 253.794\n",
      "loss: 255.99\n",
      "loss: 246.643\n",
      "loss: 241.853\n",
      "loss: 268.349\n",
      "loss: 256.221\n",
      "loss: 252.763\n",
      "loss: 243.522\n",
      "loss: 263.764\n",
      "loss: 296.011\n",
      "loss: 264.88\n",
      "loss: 261.5\n",
      "loss: 270.104\n",
      "loss: 236.615\n",
      "loss: 219.967\n",
      "loss: 248.267\n",
      "loss: 272.795\n",
      "loss: 276.808\n",
      "loss: 225.133\n",
      "loss: 277.794\n",
      "loss: 247.47\n",
      "loss: 216.183\n",
      "loss: 239.334\n",
      "loss: 242.355\n",
      "loss: 275.065\n",
      "loss: 239.123\n",
      "loss: 196.359\n",
      "loss: 237.675\n",
      "loss: 226.885\n",
      "loss: 272.617\n",
      "loss: 236.103\n",
      "loss: 252.93\n",
      "loss: 249.177\n",
      "loss: 270.546\n",
      "loss: 242.813\n",
      "loss: 235.203\n",
      "loss: 237.057\n",
      "loss: 249.195\n",
      "loss: 214.883\n",
      "Epoch 2\n",
      "loss: 229.935\n",
      "loss: 272.791\n",
      "loss: 241.928\n",
      "loss: 247.753\n",
      "loss: 281.009\n",
      "loss: 253.128\n",
      "loss: 245.792\n",
      "loss: 197.192\n",
      "loss: 224.769\n",
      "loss: 230.491\n",
      "loss: 252.341\n",
      "loss: 259.096\n",
      "loss: 251.494\n",
      "loss: 241.537\n",
      "loss: 257.81\n",
      "loss: 250.977\n",
      "loss: 210.801\n",
      "loss: 258.216\n",
      "loss: 242.952\n",
      "loss: 210.748\n",
      "loss: 212.749\n",
      "loss: 204.753\n",
      "loss: 242.691\n",
      "loss: 255.124\n",
      "loss: 258.327\n",
      "loss: 247.655\n",
      "loss: 214.143\n",
      "loss: 234.038\n",
      "loss: 239.297\n",
      "loss: 258.747\n",
      "loss: 246.387\n",
      "loss: 213.573\n",
      "loss: 249.904\n",
      "loss: 275.165\n",
      "loss: 246.427\n",
      "loss: 235.619\n",
      "loss: 288.23\n",
      "loss: 232.33\n",
      "loss: 232.482\n",
      "loss: 296.019\n",
      "loss: 229.519\n",
      "loss: 234.149\n",
      "loss: 226.423\n",
      "loss: 207.516\n",
      "loss: 257.255\n",
      "loss: 237.38\n",
      "loss: 233.13\n",
      "loss: 232.807\n",
      "loss: 252.639\n",
      "loss: 274.274\n",
      "loss: 238.333\n",
      "loss: 241.532\n",
      "loss: 250.908\n",
      "loss: 217.931\n",
      "loss: 204.57\n",
      "loss: 230.876\n",
      "loss: 243.674\n",
      "loss: 243.425\n",
      "loss: 204.717\n",
      "loss: 255.574\n",
      "loss: 234.613\n",
      "loss: 200.758\n",
      "loss: 220.144\n",
      "loss: 232.871\n",
      "loss: 260.156\n",
      "loss: 223.168\n",
      "loss: 179.406\n",
      "loss: 226.467\n",
      "loss: 208.536\n",
      "loss: 251.873\n",
      "loss: 204.581\n",
      "loss: 236.618\n",
      "loss: 229.453\n",
      "loss: 262.872\n",
      "loss: 229.036\n",
      "loss: 227.345\n",
      "loss: 227.532\n",
      "loss: 234.354\n",
      "loss: 203.09\n",
      "saving variables...\n"
     ]
    }
   ],
   "source": [
    "network.train(train_batches_in, train_batches_out, load_existing_vars=True, epochs=3)"
   ]
  },
  {
   "cell_type": "code",
   "execution_count": 13,
   "metadata": {
    "collapsed": true,
    "deletable": true,
    "editable": true
   },
   "outputs": [],
   "source": [
    "batch_num = 3"
   ]
  },
  {
   "cell_type": "code",
   "execution_count": 14,
   "metadata": {
    "collapsed": false,
    "deletable": true,
    "editable": true,
    "scrolled": false
   },
   "outputs": [
    {
     "name": "stdout",
     "output_type": "stream",
     "text": [
      "loading variables...\n",
      "INFO:tensorflow:Restoring parameters from ./hmlstm.ckpt\n",
      "[[ 1.  1.  1.  1.  1.  1.  1.  1.  1.  1.  1.  1.  1.  1.  1.  1.  1.  1.\n",
      "   1.  0.  0.  0.  0.  0.  0.  0.  0.  0.  0.  0.  0.  0.  0.  0.  0.  0.\n",
      "   0.  0.  0.  0.  0.  0.  0.  0.  0.  0.  0.  0.  0.  0.  0.  0.  0.  0.\n",
      "   0.  0.  0.  0.  0.  0.  0.  0.  0.  0.  0.  0.  0.  0.  0.  0.  0.  0.\n",
      "   0.  0.  0.  0.  0.  0.  0.  0.  0.  0.  0.  0.  0.  0.  0.  0.  0.  0.\n",
      "   0.  0.  0.  0.  0.  0.  0.  0.  1.  1.  1.  1.  1.  1.  1.  1.  1.  1.\n",
      "   1.  1.  1.  1.  0.  0.  0.  1.  1.  1.  1.  1.  0.  0.  0.  1.  1.  1.\n",
      "   1.  1.  1.  1.  1.  1.  1.  1.  1.  1.  1.  1.  1.  1.  1.  1.  1.  1.\n",
      "   1.  1.  1.  1.  1.  1.  1.  1.  1.  1.  1.  1.  1.  1.  1.  1.  1.  1.\n",
      "   1.  1.  1.  1.  1.  1.  1.  1.  0.  1.  0.  1.  1.  1.  1.  1.  0.  0.\n",
      "   0.  0.  1.  1.  1.  1.  1.  1.  1.  1.  1.  1.  1.  1.  1.  1.  1.  1.\n",
      "   1.  1.  1.  1.  1.  0.  0.  0.  0.  0.  0.  0.  0.  0.  0.  0.  0.  0.\n",
      "   0.  0.  0.  0.  0.  0.  0.  0.  0.  0.  0.  0.  0.  0.  0.  0.  0.  0.\n",
      "   0.  0.  0.  0.  0.  0.  0.  0.  0.  0.  0.  0.  0.  0.  0.  0.  0.  0.\n",
      "   0.  0.  0.  0.  0.  0.  0.  0.  0.  0.  0.  0.  0.  0.  0.  0.  0.  0.\n",
      "   0.  0.  0.  0.  0.  0.  0.  0.  0.  0.  0.  0.  1.  1.  1.  1.  1.  1.\n",
      "   1.  1.  1.  1.  1.  1.  1.  1.  1.  1.  1.]\n",
      " [ 0.  0.  0.  0.  0.  0.  0.  0.  0.  0.  0.  0.  0.  0.  0.  0.  0.  1.\n",
      "   1.  0.  0.  0.  0.  0.  0.  0.  0.  0.  0.  0.  0.  0.  0.  0.  0.  0.\n",
      "   0.  0.  0.  0.  0.  0.  0.  0.  0.  0.  0.  0.  0.  0.  0.  0.  0.  0.\n",
      "   0.  0.  0.  0.  0.  0.  0.  0.  0.  0.  0.  0.  0.  0.  0.  0.  0.  0.\n",
      "   0.  0.  0.  0.  0.  0.  0.  0.  0.  0.  0.  0.  0.  0.  0.  0.  0.  0.\n",
      "   0.  0.  0.  0.  0.  0.  0.  0.  0.  0.  0.  0.  0.  0.  0.  0.  0.  0.\n",
      "   0.  0.  1.  0.  0.  0.  0.  0.  0.  0.  1.  0.  0.  0.  0.  0.  0.  0.\n",
      "   0.  0.  0.  0.  0.  0.  0.  0.  0.  0.  0.  0.  0.  0.  0.  0.  0.  0.\n",
      "   0.  0.  0.  0.  0.  0.  0.  0.  0.  0.  0.  0.  0.  0.  0.  0.  0.  0.\n",
      "   0.  0.  0.  0.  0.  0.  0.  1.  0.  1.  0.  0.  0.  0.  1.  0.  0.  0.\n",
      "   0.  0.  0.  0.  0.  0.  0.  0.  0.  0.  0.  0.  0.  0.  0.  0.  0.  0.\n",
      "   0.  0.  0.  1.  0.  0.  0.  0.  0.  0.  0.  0.  0.  0.  0.  0.  0.  0.\n",
      "   0.  0.  0.  0.  0.  0.  0.  0.  0.  0.  0.  0.  0.  0.  0.  0.  0.  0.\n",
      "   0.  0.  0.  0.  0.  0.  0.  0.  0.  0.  0.  0.  0.  0.  0.  0.  0.  0.\n",
      "   0.  0.  0.  0.  0.  0.  0.  0.  0.  0.  0.  0.  0.  0.  0.  0.  0.  0.\n",
      "   0.  0.  0.  0.  0.  0.  0.  0.  0.  0.  0.  0.  0.  0.  0.  0.  0.  0.\n",
      "   0.  0.  0.  0.  0.  0.  0.  0.  0.  0.  0.]\n",
      " [ 0.  0.  0.  0.  0.  0.  0.  0.  0.  0.  0.  0.  0.  0.  0.  0.  0.  0.\n",
      "   0.  0.  0.  0.  0.  0.  0.  0.  0.  0.  0.  0.  0.  0.  0.  0.  0.  0.\n",
      "   0.  0.  0.  0.  0.  0.  0.  0.  0.  0.  0.  0.  0.  0.  0.  0.  0.  0.\n",
      "   0.  0.  0.  0.  0.  0.  0.  0.  0.  0.  0.  0.  0.  0.  0.  0.  0.  0.\n",
      "   0.  0.  0.  0.  0.  0.  0.  0.  0.  0.  0.  0.  0.  0.  0.  0.  0.  0.\n",
      "   0.  0.  0.  0.  0.  0.  0.  0.  0.  0.  0.  0.  0.  0.  0.  0.  0.  0.\n",
      "   0.  0.  0.  0.  0.  0.  0.  0.  0.  0.  0.  0.  0.  0.  0.  0.  0.  0.\n",
      "   0.  0.  0.  0.  0.  0.  0.  0.  0.  0.  0.  0.  0.  0.  0.  0.  0.  0.\n",
      "   0.  0.  0.  0.  0.  0.  0.  0.  0.  0.  0.  0.  0.  0.  0.  0.  0.  0.\n",
      "   0.  0.  0.  0.  0.  0.  0.  0.  0.  0.  0.  0.  0.  0.  0.  0.  0.  0.\n",
      "   0.  0.  0.  0.  0.  0.  0.  0.  0.  0.  0.  0.  0.  0.  0.  0.  0.  0.\n",
      "   0.  0.  0.  0.  0.  0.  0.  0.  0.  0.  0.  0.  0.  0.  0.  0.  0.  0.\n",
      "   0.  0.  0.  0.  0.  0.  0.  0.  0.  0.  0.  0.  0.  0.  0.  0.  0.  0.\n",
      "   0.  0.  0.  0.  0.  0.  0.  0.  0.  0.  0.  0.  0.  0.  0.  0.  0.  0.\n",
      "   0.  0.  0.  0.  0.  0.  0.  0.  0.  0.  0.  0.  0.  0.  0.  0.  0.  0.\n",
      "   0.  0.  0.  0.  0.  0.  0.  0.  0.  0.  0.  0.  0.  0.  0.  0.  0.  0.\n",
      "   0.  0.  0.  0.  0.  0.  0.  0.  0.  0.  0.]]\n"
     ]
    }
   ],
   "source": [
    "boundaries = network.predict_boundaries(test_batches_in[batch_num][0])\n",
    "print(boundaries[0])"
   ]
  },
  {
   "cell_type": "code",
   "execution_count": 15,
   "metadata": {
    "collapsed": true,
    "deletable": true,
    "editable": true
   },
   "outputs": [],
   "source": [
    "# test that indicators are valid\n",
    "# TODO: figure out why first element is sometimes invalid\n",
    "b = boundaries[0]\n",
    "for l in range(1, len(b)):\n",
    "    for i in range(1, len(b[0])):\n",
    "        if b[l][i] == 1.:\n",
    "            if b[l][i - 1] == 0.\\\n",
    "            and b[l - 1][i] == 0. \\\n",
    "            and b[l - 1][i - 1] == 0.:\n",
    "                print(l, i)\n",
    "                raise ValueError(\"Something's not right\")"
   ]
  },
  {
   "cell_type": "code",
   "execution_count": 16,
   "metadata": {
    "collapsed": false,
    "deletable": true,
    "editable": true,
    "scrolled": true
   },
   "outputs": [
    {
     "name": "stdout",
     "output_type": "stream",
     "text": [
      "loading variables...\n",
      "INFO:tensorflow:Restoring parameters from ./hmlstm.ckpt\n"
     ]
    }
   ],
   "source": [
    "predictions = network.predict(test_batches_in[batch_num][0])"
   ]
  },
  {
   "cell_type": "code",
   "execution_count": 17,
   "metadata": {
    "collapsed": false,
    "deletable": true,
    "editable": true
   },
   "outputs": [
    {
     "data": {
      "image/png": "[encoded data removed]",
      "text/plain": [
       "<matplotlib.figure.Figure at 0x7f232ee9e668>"
      ]
     },
     "metadata": {},
     "output_type": "display_data"
    }
   ],
   "source": [
    "plt.plot(predictions.flatten())\n",
    "plt.plot(test_batches_in[batch_num][0][1:])\n",
    "\n",
    "colors = ['r', 'b', 'g', 'o']\n",
    "for l, layer in enumerate(boundaries[0]):\n",
    "    for i, indicator in enumerate(layer):\n",
    "        if indicator == 1.:\n",
    "            p = 1 / len(boundaries[0])\n",
    "            plt.axvline(i, color=colors[l], ymin=(p*l), ymax=(p*(l + 1)), alpha=.3)"
   ]
  },
  {
   "cell_type": "markdown",
   "metadata": {
    "deletable": true,
    "editable": true
   },
   "source": [
    "### Text classificaiton example"
   ]
  },
  {
   "cell_type": "code",
   "execution_count": null,
   "metadata": {
    "collapsed": true,
    "deletable": true,
    "editable": true
   },
   "outputs": [],
   "source": [
    "tf.reset_default_graph()\n",
    "network = HMLSTMNetwork(output_size=29, input_size=29,\n",
    "                        embed_size=1024, out_hidden_size=500,\n",
    "                        hidden_state_sizes=200)"
   ]
  },
  {
   "cell_type": "code",
   "execution_count": null,
   "metadata": {
    "collapsed": true,
    "deletable": true,
    "editable": true
   },
   "outputs": [],
   "source": [
    "batch_size = 2\n",
    "truncate_len = 100\n",
    "num_layers = 3\n",
    "num_batches = 100\n",
    "\n",
    "inputs = prepare_inputs(\n",
    "    batch_size=batch_size, truncate_len=truncate_len, num_batches=num_batches)"
   ]
  },
  {
   "cell_type": "code",
   "execution_count": null,
   "metadata": {
    "collapsed": true,
    "deletable": true,
    "editable": true,
    "scrolled": true
   },
   "outputs": [],
   "source": [
    "# test on last input\\\n",
    "network.train(inputs[0][:-1], inputs[1][:-1], load_existing_vars=True)"
   ]
  },
  {
   "cell_type": "code",
   "execution_count": 51,
   "metadata": {
    "collapsed": false,
    "deletable": true,
    "editable": true
   },
   "outputs": [
    {
     "data": {
      "text/plain": [
       "array([[[ 0.,  0.,  0.,  0.,  0.,  0.,  0.,  0.,  0.,  0.,  0.,  0.,  0.,\n",
       "          0.,  0.,  0.,  0.,  0.,  0.,  0.,  0.,  0.,  0.,  0.,  0.,  0.,\n",
       "          0.,  0.,  0.,  0.,  0.,  0.,  0.,  0.,  0.,  0.,  0.,  0.,  0.,\n",
       "          0.,  0.,  0.,  0.,  0.,  0.,  0.,  0.,  0.,  0.,  0.,  0.,  0.,\n",
       "          0.,  0.,  0.,  0.,  0.,  0.,  0.,  0.,  0.,  0.,  0.,  0.,  0.,\n",
       "          0.,  0.,  0.,  0.,  0.,  0.,  0.,  0.,  0.,  0.,  0.,  0.,  1.,\n",
       "          0.,  0.,  0.,  0.,  0.,  0.,  0.,  0.,  0.,  0.,  0.,  0.,  0.,\n",
       "          0.,  0.,  0.,  0.,  0.,  0.,  0.,  0.,  0.],\n",
       "        [ 0.,  0.,  0.,  0.,  0.,  0.,  0.,  0.,  0.,  0.,  0.,  0.,  0.,\n",
       "          0.,  0.,  0.,  0.,  0.,  0.,  0.,  0.,  0.,  0.,  0.,  0.,  0.,\n",
       "          0.,  0.,  0.,  0.,  0.,  0.,  0.,  0.,  0.,  0.,  0.,  0.,  0.,\n",
       "          0.,  0.,  0.,  0.,  0.,  0.,  0.,  0.,  0.,  0.,  0.,  0.,  0.,\n",
       "          0.,  0.,  0.,  0.,  0.,  0.,  0.,  0.,  0.,  0.,  0.,  0.,  0.,\n",
       "          0.,  0.,  0.,  0.,  0.,  0.,  0.,  0.,  0.,  0.,  0.,  0.,  0.,\n",
       "          0.,  0.,  0.,  0.,  0.,  0.,  0.,  0.,  0.,  0.,  0.,  0.,  0.,\n",
       "          0.,  0.,  0.,  0.,  0.,  0.,  0.,  0.,  0.],\n",
       "        [ 0.,  0.,  0.,  0.,  0.,  0.,  0.,  0.,  0.,  0.,  0.,  0.,  0.,\n",
       "          0.,  0.,  0.,  0.,  0.,  0.,  0.,  0.,  0.,  0.,  0.,  0.,  0.,\n",
       "          0.,  0.,  0.,  0.,  0.,  0.,  0.,  0.,  0.,  0.,  0.,  0.,  0.,\n",
       "          0.,  0.,  0.,  0.,  0.,  0.,  0.,  0.,  0.,  0.,  0.,  0.,  0.,\n",
       "          0.,  0.,  0.,  0.,  0.,  0.,  0.,  0.,  0.,  0.,  0.,  0.,  0.,\n",
       "          0.,  0.,  0.,  0.,  0.,  0.,  0.,  0.,  0.,  0.,  0.,  0.,  0.,\n",
       "          0.,  0.,  0.,  0.,  0.,  0.,  0.,  0.,  0.,  0.,  0.,  0.,  0.,\n",
       "          0.,  0.,  0.,  0.,  0.,  0.,  0.,  0.,  0.]]], dtype=float32)"
      ]
     },
     "execution_count": 51,
     "metadata": {},
     "output_type": "execute_result"
    }
   ],
   "source": [
    "# predictions on last input\n",
    "indicators = network.predict_boundaries(inputs[0][-1][0], reuse=True)\n",
    "indicators"
   ]
  },
  {
   "cell_type": "code",
   "execution_count": null,
   "metadata": {
    "collapsed": true,
    "deletable": true,
    "editable": true,
    "scrolled": true
   },
   "outputs": [],
   "source": [
    "# predictions on last input\n",
    "predictions = network.predict(inputs[0][-1][0], reuse=True)"
   ]
  },
  {
   "cell_type": "code",
   "execution_count": null,
   "metadata": {
    "collapsed": true,
    "deletable": true,
    "editable": true
   },
   "outputs": [],
   "source": [
    "def get_text(encoding):\n",
    "    prediction = ''\n",
    "    \n",
    "    for char in np.squeeze(encoding):\n",
    "        max_likelihood = np.where(char == np.max(char))[0][0]\n",
    "        if max_likelihood < 26:\n",
    "            prediction += ascii_lowercase[max_likelihood]\n",
    "        elif max_likelihood == 26:\n",
    "            prediction += ','\n",
    "        elif max_likelihood == 27:\n",
    "            prediction += '.'\n",
    "        elif max_likelihood == 28:\n",
    "            prediction += ' '\n",
    "    \n",
    "    return prediction"
   ]
  },
  {
   "cell_type": "code",
   "execution_count": 48,
   "metadata": {
    "collapsed": false,
    "deletable": true,
    "editable": true
   },
   "outputs": [
    {
     "data": {
      "text/plain": [
       "'erl   nd ahes aoouene  ah te as eres eng   s ahrrl aetantanh ah tas  as   hhethaou  aooanthahh  oter'"
      ]
     },
     "execution_count": 48,
     "metadata": {},
     "output_type": "execute_result"
    }
   ],
   "source": [
    "get_text(predictions)"
   ]
  },
  {
   "cell_type": "code",
   "execution_count": 49,
   "metadata": {
    "collapsed": false,
    "deletable": true,
    "editable": true
   },
   "outputs": [
    {
     "data": {
      "text/plain": [
       "'ell. and this promises to be interesting. it would be a pity to miss it.   but your client     neve'"
      ]
     },
     "execution_count": 49,
     "metadata": {},
     "output_type": "execute_result"
    }
   ],
   "source": [
    "get_text(inputs[0][-1][0][1:])"
   ]
  },
  {
   "cell_type": "code",
   "execution_count": null,
   "metadata": {
    "collapsed": true,
    "deletable": true,
    "editable": true
   },
   "outputs": [],
   "source": []
  }
 ],
 "metadata": {
  "kernelspec": {
   "display_name": "Python 3",
   "language": "python",
   "name": "python3"
  },
  "language_info": {
   "codemirror_mode": {
    "name": "ipython",
    "version": 3
   },
   "file_extension": ".py",
   "mimetype": "text/x-python",
   "name": "python",
   "nbconvert_exporter": "python",
   "pygments_lexer": "ipython3",
   "version": "3.6.0"
  }
 },
 "nbformat": 4,
 "nbformat_minor": 2
}
