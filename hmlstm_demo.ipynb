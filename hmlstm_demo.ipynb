{
 "cells": [
  {
   "cell_type": "code",
   "execution_count": 1,
   "metadata": {
    "collapsed": true
   },
   "outputs": [],
   "source": [
    "import numpy as np\n",
    "import matplotlib.pyplot as plt\n",
    "from hmlstm_network import HMLSTMNetwork\n",
    "import tensorflow as tf\n",
    "from text_input_utils import prepare_inputs\n",
    "import tensorflow as tf\n",
    "from string import ascii_lowercase\n",
    "\n",
    "%matplotlib inline\n",
    "%load_ext autoreload\n",
    "%autoreload 2"
   ]
  },
  {
   "cell_type": "markdown",
   "metadata": {},
   "source": [
    "### Regression example"
   ]
  },
  {
   "cell_type": "code",
   "execution_count": 16,
   "metadata": {},
   "outputs": [],
   "source": [
    "# simulate multiresolution data\n",
    "num_signals = 100\n",
    "signal_length = 300\n",
    "x = np.linspace(0, 120 * np.pi, signal_length)\n",
    "signals = [np.random.normal(0, .5, size=signal_length) +\n",
    "           (2 * np.sin(.6 * x + np.random.random() * 100 * np.pi))\n",
    "           + (5 * np.sin(.1* x + np.random.random() * 100 * np.pi))\n",
    "           +( 10 * np.sin(.03 * x + np.random.random() * 100 * np.pi))\n",
    "    for _ in range(num_signals)]\n",
    "\n",
    "split = int(num_signals * .8)\n",
    "train = signals[:split]\n",
    "test = signals[split:]"
   ]
  },
  {
   "cell_type": "code",
   "execution_count": 17,
   "metadata": {},
   "outputs": [
    {
     "data": {
      "image/png": "[encoded data removed]",
      "text/plain": [
       "<matplotlib.figure.Figure at 0x7f06b418b278>"
      ]
     },
     "metadata": {},
     "output_type": "display_data"
    }
   ],
   "source": [
    "# example signal\n",
    "plt.plot(x, signals[2]);"
   ]
  },
  {
   "cell_type": "code",
   "execution_count": 18,
   "metadata": {
    "collapsed": true,
    "scrolled": true
   },
   "outputs": [],
   "source": [
    "# prepare data\n",
    "train_batches_in = []\n",
    "train_batches_out = []\n",
    "batch_size = 1\n",
    "start = 0\n",
    "while start + batch_size < len(train):\n",
    "    batch = train[start: start + batch_size]\n",
    "    \n",
    "    train_batches_in.append(np.array([s[:-1] for s in batch]).reshape(batch_size, -1, 1))\n",
    "    train_batches_out.append(np.array([s[1:] for s in batch]).reshape(batch_size, -1, 1))\n",
    "\n",
    "    start += batch_size\n",
    "    \n",
    "    \n",
    "batch_size = 1\n",
    "start = 0\n",
    "test_batches_in = []\n",
    "test_batches_out = []\n",
    "while start + batch_size < len(test):\n",
    "    batch = test[start: start + batch_size]\n",
    "    \n",
    "    test_batches_in.append(np.array([s[:-1] for s in batch]).reshape(batch_size, -1, 1))\n",
    "    test_batches_out.append(np.array([s[1:] for s in batch]).reshape(batch_size, -1, 1))\n",
    "\n",
    "    start += batch_size"
   ]
  },
  {
   "cell_type": "code",
   "execution_count": 5,
   "metadata": {
    "collapsed": true
   },
   "outputs": [],
   "source": [
    "tf.reset_default_graph()\n",
    "network = HMLSTMNetwork(input_size=1, task='regression', hidden_state_sizes=100,\n",
    "                       embed_size=100, out_hidden_size=100, num_layers=3)"
   ]
  },
  {
   "cell_type": "code",
   "execution_count": 19,
   "metadata": {
    "scrolled": true
   },
   "outputs": [
    {
     "name": "stdout",
     "output_type": "stream",
     "text": [
      "loading variables...\n",
      "INFO:tensorflow:Restoring parameters from ./hmlstm.ckpt\n",
      "Epoch 0\n",
      "loss: 716.068\n",
      "loss: 530.886\n",
      "loss: 632.767\n",
      "loss: 559.6\n",
      "loss: 561.074\n",
      "loss: 409.643\n",
      "loss: 501.308\n",
      "loss: 483.869\n",
      "loss: 372.73\n",
      "loss: 420.401\n",
      "loss: 397.263\n",
      "loss: 438.107\n",
      "loss: 440.197\n",
      "loss: 449.313\n",
      "loss: 412.359\n",
      "loss: 392.996\n",
      "loss: 393.731\n",
      "loss: 441.796\n",
      "loss: 468.784\n",
      "loss: 409.663\n",
      "loss: 426.333\n",
      "loss: 396.361\n",
      "loss: 354.507\n",
      "loss: 363.108\n",
      "loss: 403.114\n",
      "loss: 376.417\n",
      "loss: 379.726\n",
      "loss: 390.495\n",
      "loss: 427.164\n",
      "loss: 355.851\n",
      "loss: 428.086\n",
      "loss: 397.905\n",
      "loss: 394.361\n",
      "loss: 356.722\n",
      "loss: 407.766\n",
      "loss: 422.309\n",
      "loss: 376.125\n",
      "loss: 393.935\n",
      "loss: 371.637\n",
      "loss: 338.846\n",
      "loss: 398.043\n",
      "loss: 340.216\n",
      "loss: 405.726\n",
      "loss: 350.492\n",
      "loss: 392.721\n",
      "loss: 412.674\n",
      "loss: 374.362\n",
      "loss: 352.314\n",
      "loss: 364.634\n",
      "loss: 348.536\n",
      "loss: 356.388\n",
      "loss: 333.729\n",
      "loss: 372.665\n",
      "loss: 379.808\n",
      "loss: 358.027\n",
      "loss: 314.376\n",
      "loss: 386.949\n",
      "loss: 350.142\n",
      "loss: 341.895\n",
      "loss: 362.934\n",
      "loss: 323.616\n",
      "loss: 327.872\n",
      "loss: 400.727\n",
      "loss: 285.152\n",
      "loss: 358.05\n",
      "loss: 361.474\n",
      "loss: 411.26\n",
      "loss: 408.287\n",
      "loss: 390.846\n",
      "loss: 317.724\n",
      "loss: 343.629\n",
      "loss: 366.337\n",
      "loss: 354.042\n",
      "loss: 353.403\n",
      "loss: 354.37\n",
      "loss: 311.667\n",
      "loss: 297.963\n",
      "loss: 280.642\n",
      "loss: 341.722\n",
      "Epoch 1\n",
      "loss: 319.104\n",
      "loss: 311.241\n",
      "loss: 310.683\n",
      "loss: 322.108\n",
      "loss: 337.305\n",
      "loss: 263.111\n",
      "loss: 315.406\n",
      "loss: 308.61\n",
      "loss: 261.717\n",
      "loss: 287.955\n",
      "loss: 292.565\n",
      "loss: 322.353\n",
      "loss: 321.272\n",
      "loss: 304.129\n",
      "loss: 339.394\n",
      "loss: 327.62\n",
      "loss: 312.35\n",
      "loss: 372.492\n",
      "loss: 361.927\n",
      "loss: 308.214\n",
      "loss: 318.221\n",
      "loss: 294.428\n",
      "loss: 283.546\n",
      "loss: 267.727\n",
      "loss: 328.857\n",
      "loss: 280.608\n",
      "loss: 288.037\n",
      "loss: 292.079\n",
      "loss: 313.001\n",
      "loss: 260.507\n",
      "loss: 326.49\n",
      "loss: 303.863\n",
      "loss: 350.11\n",
      "loss: 271.669\n",
      "loss: 307.75\n",
      "loss: 319.912\n",
      "loss: 275.575\n",
      "loss: 305.212\n",
      "loss: 304.605\n",
      "loss: 253.669\n",
      "loss: 292.637\n",
      "loss: 260.326\n",
      "loss: 295.107\n",
      "loss: 278.432\n",
      "loss: 310.33\n",
      "loss: 326.941\n",
      "loss: 281.707\n",
      "loss: 270.262\n",
      "loss: 278.928\n",
      "loss: 256.306\n",
      "loss: 260.616\n",
      "loss: 256.047\n",
      "loss: 310.694\n",
      "loss: 302.166\n",
      "loss: 307.473\n",
      "loss: 251.596\n",
      "loss: 324.685\n",
      "loss: 260.189\n",
      "loss: 259.383\n",
      "loss: 273.463\n",
      "loss: 262.931\n",
      "loss: 254.163\n",
      "loss: 324.881\n",
      "loss: 217.903\n",
      "loss: 285.905\n",
      "loss: 291.62\n",
      "loss: 332.171\n",
      "loss: 301.677\n",
      "loss: 293.353\n",
      "loss: 259.346\n",
      "loss: 281.639\n",
      "loss: 289.836\n",
      "loss: 281.254\n",
      "loss: 281.306\n",
      "loss: 283.711\n",
      "loss: 260.833\n",
      "loss: 240.446\n",
      "loss: 232.041\n",
      "loss: 300.4\n",
      "Epoch 2\n",
      "loss: 267.437\n",
      "loss: 249.321\n",
      "loss: 245.667\n",
      "loss: 275.438\n",
      "loss: 306.092\n",
      "loss: 219.33\n",
      "loss: 280.794\n",
      "loss: 263.097\n",
      "loss: 224.441\n",
      "loss: 246.179\n",
      "loss: 248.042\n",
      "loss: 269.917\n",
      "loss: 279.32\n",
      "loss: 255.613\n",
      "loss: 295.163\n",
      "loss: 284.641\n",
      "loss: 235.894\n",
      "loss: 332.356\n",
      "loss: 306.827\n",
      "loss: 247.846\n",
      "loss: 269.723\n",
      "loss: 240.977\n",
      "loss: 228.405\n",
      "loss: 223.14\n",
      "loss: 325.705\n",
      "loss: 233.444\n",
      "loss: 237.391\n",
      "loss: 245.109\n",
      "loss: 272.917\n",
      "loss: 228.191\n",
      "loss: 281.079\n",
      "loss: 256.544\n",
      "loss: 312.626\n",
      "loss: 234.158\n",
      "loss: 252.95\n",
      "loss: 279.828\n",
      "loss: 242.279\n",
      "loss: 256.825\n",
      "loss: 272.285\n",
      "loss: 219.876\n",
      "loss: 268.279\n",
      "loss: 225.835\n",
      "loss: 248.864\n",
      "loss: 243.732\n",
      "loss: 294.815\n",
      "loss: 277.012\n",
      "loss: 244.748\n",
      "loss: 242.261\n",
      "loss: 240.594\n",
      "loss: 230.535\n",
      "loss: 223.069\n",
      "loss: 231.493\n",
      "loss: 260.523\n",
      "loss: 277.162\n",
      "loss: 283.626\n",
      "loss: 245.193\n",
      "loss: 294.41\n",
      "loss: 250.219\n",
      "loss: 235.47\n",
      "loss: 244.752\n",
      "loss: 239.211\n",
      "loss: 230.113\n",
      "loss: 300.411\n",
      "loss: 196.254\n",
      "loss: 260.91\n",
      "loss: 271.156\n",
      "loss: 305.127\n",
      "loss: 270.694\n",
      "loss: 268.849\n",
      "loss: 225.956\n",
      "loss: 244.654\n",
      "loss: 259.805\n",
      "loss: 254.052\n",
      "loss: 260.062\n",
      "loss: 260.89\n",
      "loss: 234.743\n",
      "loss: 217.476\n",
      "loss: 202.014\n",
      "loss: 283.381\n",
      "saving variables...\n"
     ]
    }
   ],
   "source": [
    "network.train(train_batches_in, train_batches_out, load_existing_vars=True, epochs=3)"
   ]
  },
  {
   "cell_type": "code",
   "execution_count": 30,
   "metadata": {
    "collapsed": true
   },
   "outputs": [],
   "source": [
    "batch_num = 3"
   ]
  },
  {
   "cell_type": "code",
   "execution_count": 31,
   "metadata": {
    "scrolled": false
   },
   "outputs": [
    {
     "name": "stdout",
     "output_type": "stream",
     "text": [
      "loading variables...\n",
      "INFO:tensorflow:Restoring parameters from ./hmlstm.ckpt\n",
      "[[ 0.  0.  0.  0.  0.  0.  0.  0.  0.  0.  0.  0.  0.  0.  0.  0.  0.  0.\n",
      "   0.  0.  0.  0.  0.  0.  0.  0.  0.  0.  0.  0.  0.  0.  0.  0.  0.  0.\n",
      "   0.  0.  0.  0.  0.  0.  0.  0.  0.  0.  0.  0.  0.  0.  0.  0.  0.  0.\n",
      "   0.  0.  0.  0.  0.  0.  0.  0.  0.  0.  0.  1.  1.  1.  1.  1.  1.  1.\n",
      "   1.  1.  1.  1.  1.  1.  0.  1.  1.  1.  1.  1.  1.  0.  0.  0.  0.  0.\n",
      "   1.  1.  1.  1.  0.  0.  1.  1.  1.  1.  1.  1.  1.  1.  1.  1.  1.  1.\n",
      "   1.  1.  1.  1.  1.  1.  1.  1.  1.  1.  1.  1.  1.  1.  1.  1.  1.  1.\n",
      "   1.  1.  1.  1.  1.  1.  1.  1.  1.  1.  1.  1.  1.  1.  1.  1.  1.  1.\n",
      "   0.  0.  1.  1.  1.  1.  1.  1.  1.  1.  1.  1.  1.  1.  1.  1.  1.  1.\n",
      "   1.  1.  1.  1.  1.  1.  1.  0.  0.  0.  1.  1.  0.  0.  0.  0.  0.  0.\n",
      "   0.  0.  0.  0.  0.  0.  0.  0.  0.  0.  0.  0.  0.  0.  0.  0.  0.  0.\n",
      "   0.  0.  0.  0.  0.  0.  0.  0.  0.  0.  0.  0.  0.  0.  0.  0.  0.  0.\n",
      "   0.  0.  0.  0.  0.  0.  0.  0.  0.  0.  0.  0.  0.  0.  0.  0.  0.  0.\n",
      "   0.  0.  0.  0.  0.  0.  0.  0.  0.  0.  0.  0.  0.  0.  1.  1.  1.  1.\n",
      "   1.  1.  1.  1.  1.  1.  1.  1.  1.  1.  1.  1.  1.  1.  1.  1.  1.  1.\n",
      "   1.  1.  1.  1.  1.  1.  1.  1.  1.  1.  1.  1.  1.  1.  1.  1.  1.  1.\n",
      "   1.  1.  1.  1.  1.  1.  1.  1.  1.  1.  1.]\n",
      " [ 1.  1.  1.  1.  1.  1.  1.  1.  1.  1.  1.  1.  1.  1.  1.  1.  1.  1.\n",
      "   1.  1.  1.  1.  1.  1.  1.  1.  1.  1.  1.  1.  1.  1.  1.  1.  1.  1.\n",
      "   1.  1.  1.  1.  1.  1.  1.  1.  1.  1.  1.  1.  1.  1.  1.  1.  1.  1.\n",
      "   1.  1.  1.  1.  1.  1.  1.  1.  1.  1.  1.  1.  1.  1.  1.  1.  1.  1.\n",
      "   1.  1.  1.  1.  1.  1.  1.  1.  1.  1.  1.  1.  0.  1.  1.  1.  1.  1.\n",
      "   1.  1.  1.  1.  1.  1.  1.  1.  1.  1.  1.  1.  1.  1.  1.  1.  1.  1.\n",
      "   1.  1.  1.  1.  1.  1.  1.  1.  1.  1.  1.  1.  1.  1.  1.  1.  1.  1.\n",
      "   1.  1.  1.  1.  1.  1.  1.  1.  1.  1.  1.  1.  1.  1.  1.  1.  1.  1.\n",
      "   1.  1.  1.  1.  1.  1.  1.  0.  1.  1.  1.  1.  1.  1.  1.  1.  1.  1.\n",
      "   1.  1.  1.  1.  1.  1.  1.  1.  1.  1.  1.  1.  1.  1.  1.  1.  1.  1.\n",
      "   1.  1.  1.  1.  1.  1.  1.  1.  1.  1.  1.  1.  1.  1.  1.  1.  1.  1.\n",
      "   1.  1.  1.  1.  1.  1.  1.  1.  1.  1.  1.  1.  1.  1.  1.  1.  1.  1.\n",
      "   1.  1.  1.  1.  1.  1.  1.  1.  1.  1.  1.  1.  1.  1.  1.  1.  1.  1.\n",
      "   1.  1.  1.  1.  1.  1.  1.  1.  1.  1.  1.  1.  1.  1.  0.  1.  1.  1.\n",
      "   1.  1.  1.  1.  1.  1.  1.  1.  1.  1.  1.  1.  1.  1.  1.  1.  1.  1.\n",
      "   1.  1.  1.  1.  1.  1.  1.  1.  1.  1.  1.  1.  1.  1.  1.  1.  1.  1.\n",
      "   1.  1.  1.  1.  1.  1.  1.  1.  1.  1.  1.]\n",
      " [ 0.  0.  0.  1.  1.  1.  1.  1.  0.  0.  1.  1.  1.  1.  1.  1.  1.  1.\n",
      "   1.  1.  1.  1.  1.  1.  1.  1.  1.  1.  1.  1.  1.  1.  1.  1.  1.  1.\n",
      "   1.  1.  1.  1.  1.  1.  1.  1.  1.  1.  1.  1.  1.  1.  1.  1.  1.  1.\n",
      "   1.  1.  1.  1.  1.  1.  1.  1.  1.  1.  1.  1.  1.  1.  0.  0.  0.  1.\n",
      "   1.  1.  1.  1.  0.  0.  0.  0.  1.  1.  1.  1.  0.  0.  0.  0.  1.  1.\n",
      "   1.  1.  1.  0.  0.  0.  1.  1.  1.  1.  1.  0.  0.  0.  1.  1.  1.  1.\n",
      "   1.  0.  0.  0.  1.  1.  1.  1.  1.  1.  0.  0.  0.  1.  1.  1.  1.  0.\n",
      "   0.  0.  0.  1.  1.  1.  1.  1.  0.  0.  0.  0.  1.  1.  1.  1.  0.  0.\n",
      "   0.  0.  1.  1.  1.  1.  1.  0.  0.  0.  1.  1.  1.  1.  1.  0.  0.  0.\n",
      "   0.  1.  1.  1.  1.  0.  0.  0.  0.  1.  1.  1.  1.  1.  0.  0.  0.  1.\n",
      "   1.  1.  1.  0.  0.  0.  1.  1.  1.  1.  1.  0.  0.  1.  1.  1.  1.  1.\n",
      "   1.  1.  1.  1.  1.  1.  1.  1.  1.  1.  1.  1.  1.  1.  1.  1.  1.  1.\n",
      "   1.  1.  1.  1.  1.  1.  1.  1.  1.  1.  1.  1.  1.  1.  1.  1.  1.  1.\n",
      "   1.  1.  1.  1.  1.  1.  1.  1.  1.  1.  1.  1.  1.  1.  1.  1.  1.  0.\n",
      "   0.  0.  1.  1.  1.  1.  1.  0.  0.  0.  1.  1.  1.  1.  1.  0.  0.  0.\n",
      "   1.  1.  1.  1.  1.  0.  0.  0.  1.  1.  1.  1.  1.  0.  0.  0.  0.  1.\n",
      "   1.  1.  1.  0.  0.  0.  0.  1.  1.  1.  1.]]\n"
     ]
    }
   ],
   "source": [
    "boundaries = network.predict_boundaries(test_batches_in[batch_num][0])\n",
    "print(boundaries[0])"
   ]
  },
  {
   "cell_type": "code",
   "execution_count": 32,
   "metadata": {},
   "outputs": [],
   "source": [
    "# test that indicators are valid\n",
    "# TODO: figure out why first element is sometimes invalid\n",
    "b = boundaries[0]\n",
    "for l in range(1, len(b)):\n",
    "    for i in range(1, len(b[0])):\n",
    "        if b[l][i] == 1.:\n",
    "            if b[l][i - 1] == 0.\\\n",
    "            and b[l - 1][i] == 0. \\\n",
    "            and b[l - 1][i - 1] == 0.:\n",
    "                print(l, i)\n",
    "                raise ValueError(\"Something's not right\")"
   ]
  },
  {
   "cell_type": "code",
   "execution_count": 33,
   "metadata": {
    "scrolled": true
   },
   "outputs": [
    {
     "name": "stdout",
     "output_type": "stream",
     "text": [
      "loading variables...\n",
      "INFO:tensorflow:Restoring parameters from ./hmlstm.ckpt\n"
     ]
    }
   ],
   "source": [
    "predictions = network.predict(test_batches_in[batch_num][0])"
   ]
  },
  {
   "cell_type": "code",
   "execution_count": 34,
   "metadata": {},
   "outputs": [
    {
     "data": {
      "image/png": "[encoded data removed]",
      "text/plain": [
       "<matplotlib.figure.Figure at 0x7f06aa2e09e8>"
      ]
     },
     "metadata": {},
     "output_type": "display_data"
    }
   ],
   "source": [
    "plt.plot(predictions.flatten())\n",
    "plt.plot(test_batches_in[batch_num][0][1:])\n",
    "\n",
    "colors = ['r', 'b', 'g', 'o']\n",
    "for l, layer in enumerate(boundaries[0]):\n",
    "    for i, indicator in enumerate(layer):\n",
    "        if indicator == 1.:\n",
    "            p = 1 / len(boundaries[0])\n",
    "            plt.axvline(i, color=colors[l], ymin=(p*l), ymax=(p*(l + 1)), alpha=.3)"
   ]
  },
  {
   "cell_type": "code",
   "execution_count": null,
   "metadata": {
    "collapsed": true
   },
   "outputs": [],
   "source": [
    "network."
   ]
  },
  {
   "cell_type": "markdown",
   "metadata": {},
   "source": [
    "### Text classificaiton example"
   ]
  },
  {
   "cell_type": "code",
   "execution_count": null,
   "metadata": {
    "collapsed": true
   },
   "outputs": [],
   "source": [
    "tf.reset_default_graph()\n",
    "network = HMLSTMNetwork(output_size=29, input_size=29,\n",
    "                        embed_size=1024, out_hidden_size=500,\n",
    "                        hidden_state_sizes=200)"
   ]
  },
  {
   "cell_type": "code",
   "execution_count": null,
   "metadata": {
    "collapsed": true
   },
   "outputs": [],
   "source": [
    "batch_size = 2\n",
    "truncate_len = 100\n",
    "num_layers = 3\n",
    "num_batches = 100\n",
    "\n",
    "inputs = prepare_inputs(\n",
    "    batch_size=batch_size, truncate_len=truncate_len, num_batches=num_batches)"
   ]
  },
  {
   "cell_type": "code",
   "execution_count": null,
   "metadata": {
    "collapsed": true,
    "scrolled": true
   },
   "outputs": [],
   "source": [
    "# test on last input\\\n",
    "network.train(inputs[0][:-1], inputs[1][:-1], load_existing_vars=True)"
   ]
  },
  {
   "cell_type": "code",
   "execution_count": 51,
   "metadata": {},
   "outputs": [
    {
     "data": {
      "text/plain": [
       "array([[[ 0.,  0.,  0.,  0.,  0.,  0.,  0.,  0.,  0.,  0.,  0.,  0.,  0.,\n",
       "          0.,  0.,  0.,  0.,  0.,  0.,  0.,  0.,  0.,  0.,  0.,  0.,  0.,\n",
       "          0.,  0.,  0.,  0.,  0.,  0.,  0.,  0.,  0.,  0.,  0.,  0.,  0.,\n",
       "          0.,  0.,  0.,  0.,  0.,  0.,  0.,  0.,  0.,  0.,  0.,  0.,  0.,\n",
       "          0.,  0.,  0.,  0.,  0.,  0.,  0.,  0.,  0.,  0.,  0.,  0.,  0.,\n",
       "          0.,  0.,  0.,  0.,  0.,  0.,  0.,  0.,  0.,  0.,  0.,  0.,  1.,\n",
       "          0.,  0.,  0.,  0.,  0.,  0.,  0.,  0.,  0.,  0.,  0.,  0.,  0.,\n",
       "          0.,  0.,  0.,  0.,  0.,  0.,  0.,  0.,  0.],\n",
       "        [ 0.,  0.,  0.,  0.,  0.,  0.,  0.,  0.,  0.,  0.,  0.,  0.,  0.,\n",
       "          0.,  0.,  0.,  0.,  0.,  0.,  0.,  0.,  0.,  0.,  0.,  0.,  0.,\n",
       "          0.,  0.,  0.,  0.,  0.,  0.,  0.,  0.,  0.,  0.,  0.,  0.,  0.,\n",
       "          0.,  0.,  0.,  0.,  0.,  0.,  0.,  0.,  0.,  0.,  0.,  0.,  0.,\n",
       "          0.,  0.,  0.,  0.,  0.,  0.,  0.,  0.,  0.,  0.,  0.,  0.,  0.,\n",
       "          0.,  0.,  0.,  0.,  0.,  0.,  0.,  0.,  0.,  0.,  0.,  0.,  0.,\n",
       "          0.,  0.,  0.,  0.,  0.,  0.,  0.,  0.,  0.,  0.,  0.,  0.,  0.,\n",
       "          0.,  0.,  0.,  0.,  0.,  0.,  0.,  0.,  0.],\n",
       "        [ 0.,  0.,  0.,  0.,  0.,  0.,  0.,  0.,  0.,  0.,  0.,  0.,  0.,\n",
       "          0.,  0.,  0.,  0.,  0.,  0.,  0.,  0.,  0.,  0.,  0.,  0.,  0.,\n",
       "          0.,  0.,  0.,  0.,  0.,  0.,  0.,  0.,  0.,  0.,  0.,  0.,  0.,\n",
       "          0.,  0.,  0.,  0.,  0.,  0.,  0.,  0.,  0.,  0.,  0.,  0.,  0.,\n",
       "          0.,  0.,  0.,  0.,  0.,  0.,  0.,  0.,  0.,  0.,  0.,  0.,  0.,\n",
       "          0.,  0.,  0.,  0.,  0.,  0.,  0.,  0.,  0.,  0.,  0.,  0.,  0.,\n",
       "          0.,  0.,  0.,  0.,  0.,  0.,  0.,  0.,  0.,  0.,  0.,  0.,  0.,\n",
       "          0.,  0.,  0.,  0.,  0.,  0.,  0.,  0.,  0.]]], dtype=float32)"
      ]
     },
     "execution_count": 51,
     "metadata": {},
     "output_type": "execute_result"
    }
   ],
   "source": [
    "# predictions on last input\n",
    "indicators = network.predict_boundaries(inputs[0][-1][0], reuse=True)\n",
    "indicators"
   ]
  },
  {
   "cell_type": "code",
   "execution_count": null,
   "metadata": {
    "collapsed": true,
    "scrolled": true
   },
   "outputs": [],
   "source": [
    "# predictions on last input\n",
    "predictions = network.predict(inputs[0][-1][0], reuse=True)"
   ]
  },
  {
   "cell_type": "code",
   "execution_count": null,
   "metadata": {
    "collapsed": true
   },
   "outputs": [],
   "source": [
    "def get_text(encoding):\n",
    "    prediction = ''\n",
    "    \n",
    "    for char in np.squeeze(encoding):\n",
    "        max_likelihood = np.where(char == np.max(char))[0][0]\n",
    "        if max_likelihood < 26:\n",
    "            prediction += ascii_lowercase[max_likelihood]\n",
    "        elif max_likelihood == 26:\n",
    "            prediction += ','\n",
    "        elif max_likelihood == 27:\n",
    "            prediction += '.'\n",
    "        elif max_likelihood == 28:\n",
    "            prediction += ' '\n",
    "    \n",
    "    return prediction"
   ]
  },
  {
   "cell_type": "code",
   "execution_count": 48,
   "metadata": {},
   "outputs": [
    {
     "data": {
      "text/plain": [
       "'erl   nd ahes aoouene  ah te as eres eng   s ahrrl aetantanh ah tas  as   hhethaou  aooanthahh  oter'"
      ]
     },
     "execution_count": 48,
     "metadata": {},
     "output_type": "execute_result"
    }
   ],
   "source": [
    "get_text(predictions)"
   ]
  },
  {
   "cell_type": "code",
   "execution_count": 49,
   "metadata": {},
   "outputs": [
    {
     "data": {
      "text/plain": [
       "'ell. and this promises to be interesting. it would be a pity to miss it.   but your client     neve'"
      ]
     },
     "execution_count": 49,
     "metadata": {},
     "output_type": "execute_result"
    }
   ],
   "source": [
    "get_text(inputs[0][-1][0][1:])"
   ]
  },
  {
   "cell_type": "code",
   "execution_count": null,
   "metadata": {
    "collapsed": true
   },
   "outputs": [],
   "source": []
  }
 ],
 "metadata": {
  "kernelspec": {
   "display_name": "Python 3",
   "language": "python",
   "name": "python3"
  },
  "language_info": {
   "codemirror_mode": {
    "name": "ipython",
    "version": 3
   },
   "file_extension": ".py",
   "mimetype": "text/x-python",
   "name": "python",
   "nbconvert_exporter": "python",
   "pygments_lexer": "ipython3",
   "version": "3.6.0"
  }
 },
 "nbformat": 4,
 "nbformat_minor": 2
}
