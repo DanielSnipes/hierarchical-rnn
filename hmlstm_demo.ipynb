{
 "cells": [
  {
   "cell_type": "code",
   "execution_count": 23,
   "metadata": {
    "collapsed": false,
    "deletable": true,
    "editable": true
   },
   "outputs": [
    {
     "name": "stdout",
     "output_type": "stream",
     "text": [
      "The autoreload extension is already loaded. To reload it, use:\n",
      "  %reload_ext autoreload\n"
     ]
    }
   ],
   "source": [
    "import numpy as np\n",
    "import matplotlib.pyplot as plt\n",
    "from hmlstm_network import HMLSTMNetwork\n",
    "import tensorflow as tf\n",
    "from text_input_utils import prepare_inputs\n",
    "import tensorflow as tf\n",
    "from string import ascii_lowercase\n",
    "\n",
    "%matplotlib inline\n",
    "%load_ext autoreload\n",
    "%autoreload 2"
   ]
  },
  {
   "cell_type": "markdown",
   "metadata": {
    "deletable": true,
    "editable": true
   },
   "source": [
    "### Regression example"
   ]
  },
  {
   "cell_type": "code",
   "execution_count": 168,
   "metadata": {
    "collapsed": true,
    "deletable": true,
    "editable": true
   },
   "outputs": [],
   "source": [
    "# simulate multiresolution data\n",
    "num_signals = 100\n",
    "signal_length = 100\n",
    "x = np.linspace(0, 120 * np.pi, signal_length)\n",
    "signals = [np.random.normal(0, .5, size=signal_length) +\n",
    "           (2 * np.sin(.6 * x + np.random.random() * 100 * np.pi))\n",
    "           + (5 * np.sin(.1* x + np.random.random() * 100 * np.pi))\n",
    "           +( 10 * np.sin(.03 * x + np.random.random() * 100 * np.pi))\n",
    "    for _ in range(num_signals)]\n",
    "\n",
    "split = int(num_signals * .8)\n",
    "train = signals[:split]\n",
    "test = signals[split:]"
   ]
  },
  {
   "cell_type": "code",
   "execution_count": 169,
   "metadata": {
    "collapsed": false,
    "deletable": true,
    "editable": true
   },
   "outputs": [
    {
     "data": {
      "image/png": "[encoded data removed]",
      "text/plain": [
       "<matplotlib.figure.Figure at 0x7fa867251e80>"
      ]
     },
     "metadata": {},
     "output_type": "display_data"
    }
   ],
   "source": [
    "# example signal\n",
    "plt.plot(x, signals[2]);"
   ]
  },
  {
   "cell_type": "code",
   "execution_count": 170,
   "metadata": {
    "collapsed": true,
    "deletable": true,
    "editable": true,
    "scrolled": true
   },
   "outputs": [],
   "source": [
    "# prepare data\n",
    "train_batches_in = []\n",
    "train_batches_out = []\n",
    "batch_size = 10\n",
    "start = 0\n",
    "while start + batch_size < len(train):\n",
    "    batch = train[start: start + batch_size]\n",
    "    \n",
    "    train_batches_in.append(np.array([s[:-1] for s in batch]).reshape(batch_size, -1, 1))\n",
    "    train_batches_out.append(np.array([s[1:] for s in batch]).reshape(batch_size, -1, 1))\n",
    "\n",
    "    start += batch_size\n",
    "    \n",
    "    \n",
    "batch_size = 1\n",
    "start = 0\n",
    "test_batches_in = []\n",
    "test_batches_out = []\n",
    "while start + batch_size < len(test):\n",
    "    batch = test[start: start + batch_size]\n",
    "    \n",
    "    test_batches_in.append(np.array([s[:-1] for s in batch]).reshape(batch_size, -1, 1))\n",
    "    test_batches_out.append(np.array([s[1:] for s in batch]).reshape(batch_size, -1, 1))\n",
    "\n",
    "    start += batch_size"
   ]
  },
  {
   "cell_type": "code",
   "execution_count": 105,
   "metadata": {
    "collapsed": true,
    "deletable": true,
    "editable": true
   },
   "outputs": [],
   "source": [
    "tf.reset_default_graph()\n",
    "network = HMLSTMNetwork(input_size=1, task='regression', hidden_state_sizes=10,\n",
    "                       embed_size=15, out_hidden_size=10, num_layers=3)"
   ]
  },
  {
   "cell_type": "code",
   "execution_count": 171,
   "metadata": {
    "collapsed": true
   },
   "outputs": [],
   "source": [
    "test_batches_in = np.swapaxes(np.array( test_batches_in ), 1, 2)\n",
    "test_batches_out = np.swapaxes(np.array( test_batches_out ), 1, 2)\n",
    "train_batches_in = np.swapaxes(np.array( train_batches_in ), 1, 2)\n",
    "train_batches_out = np.swapaxes(np.array( train_batches_out ), 1, 2)"
   ]
  },
  {
   "cell_type": "code",
   "execution_count": 172,
   "metadata": {
    "collapsed": false,
    "deletable": true,
    "editable": true,
    "scrolled": false
   },
   "outputs": [
    {
     "name": "stdout",
     "output_type": "stream",
     "text": [
      "./hmlstm_ckpt\n",
      "loading variables...\n",
      "INFO:tensorflow:Restoring parameters from ./hmlstm_ckpt\n",
      "Epoch 0\n",
      "loss: 11.931\n",
      "loss: 11.8724\n",
      "loss: 11.194\n",
      "loss: 11.0086\n",
      "loss: 12.0902\n",
      "loss: 12.0628\n",
      "loss: 11.369\n",
      "Epoch 1\n",
      "loss: 11.7667\n",
      "loss: 11.6966\n",
      "loss: 11.0742\n",
      "loss: 10.8753\n",
      "loss: 11.9521\n",
      "loss: 11.9089\n",
      "loss: 11.2223\n",
      "Epoch 2\n",
      "loss: 11.6346\n",
      "loss: 11.5443\n",
      "loss: 10.954\n",
      "loss: 10.7584\n",
      "loss: 11.8058\n",
      "loss: 11.7722\n",
      "loss: 11.0997\n",
      "saving variables...\n"
     ]
    }
   ],
   "source": [
    "network.train(train_batches_in, train_batches_out, epochs=3, load_vars_from_disk=True)"
   ]
  },
  {
   "cell_type": "code",
   "execution_count": 173,
   "metadata": {
    "collapsed": true,
    "deletable": true,
    "editable": true
   },
   "outputs": [],
   "source": [
    "batch_num = 2"
   ]
  },
  {
   "cell_type": "code",
   "execution_count": 174,
   "metadata": {
    "collapsed": false,
    "deletable": true,
    "editable": true,
    "scrolled": false
   },
   "outputs": [
    {
     "name": "stdout",
     "output_type": "stream",
     "text": [
      "[[ 1.  1.  1.  1.  1.  1.  1.  1.  1.  1.  1.  0.  0.  0.  0.  0.  0.  0.\n",
      "   0.  0.  0.  0.  0.  0.  0.  0.  0.  0.  0.  0.  0.  0.  0.  0.  0.  0.\n",
      "   0.  1.  1.  1.  1.  1.  1.  1.  1.  1.  1.  1.  1.  1.  1.  1.  1.  1.\n",
      "   1.  1.  1.  1.  1.  1.  1.  1.  1.  0.  0.  0.  0.  0.  0.  0.  1.  0.\n",
      "   0.  0.  0.  0.  0.  0.  0.  0.  0.  0.  0.  0.  0.  0.  0.  0.  0.  1.\n",
      "   1.  1.  1.  0.  0.  0.  0.  1.  1.]\n",
      " [ 1.  1.  1.  1.  1.  1.  1.  1.  1.  1.  1.  1.  1.  1.  1.  1.  1.  1.\n",
      "   1.  1.  1.  1.  1.  1.  1.  1.  1.  1.  1.  1.  1.  1.  1.  1.  1.  1.\n",
      "   1.  1.  1.  1.  1.  1.  1.  1.  1.  1.  1.  1.  1.  1.  1.  1.  1.  1.\n",
      "   1.  1.  1.  1.  1.  1.  1.  1.  1.  1.  1.  1.  1.  1.  1.  1.  1.  1.\n",
      "   1.  1.  1.  1.  1.  1.  1.  1.  1.  1.  1.  1.  1.  1.  1.  1.  1.  1.\n",
      "   1.  1.  1.  1.  1.  1.  1.  1.  1.]\n",
      " [ 1.  1.  1.  1.  1.  1.  1.  1.  1.  1.  1.  1.  1.  1.  1.  1.  1.  1.\n",
      "   1.  1.  1.  1.  1.  1.  1.  1.  1.  1.  1.  1.  1.  1.  1.  1.  1.  1.\n",
      "   1.  1.  1.  1.  1.  1.  1.  1.  1.  1.  1.  1.  1.  1.  1.  1.  1.  1.\n",
      "   1.  1.  1.  1.  1.  1.  1.  1.  1.  1.  1.  1.  1.  1.  1.  1.  1.  1.\n",
      "   1.  1.  1.  1.  1.  1.  1.  1.  1.  1.  1.  1.  1.  1.  1.  1.  1.  1.\n",
      "   1.  1.  1.  1.  1.  1.  1.  1.  1.]]\n"
     ]
    }
   ],
   "source": [
    "boundaries = network.predict_boundaries(test_batches_in[batch_num])\n",
    "print(boundaries[0])"
   ]
  },
  {
   "cell_type": "code",
   "execution_count": 175,
   "metadata": {
    "collapsed": false,
    "deletable": true,
    "editable": true
   },
   "outputs": [],
   "source": [
    "# test that indicators are valid\n",
    "# TODO: figure out why first element is sometimes invalid\n",
    "b = boundaries[0]\n",
    "for l in range(1, len(b)):\n",
    "    for i in range(1, len(b[0])):\n",
    "        if b[l][i] == 1.:\n",
    "            if b[l][i - 1] == 0.\\\n",
    "            and b[l - 1][i] == 0. \\\n",
    "            and b[l - 1][i - 1] == 0.:\n",
    "                print(l, i)\n",
    "                raise ValueError(\"Something's not right\")"
   ]
  },
  {
   "cell_type": "code",
   "execution_count": 176,
   "metadata": {
    "collapsed": false,
    "deletable": true,
    "editable": true,
    "scrolled": true
   },
   "outputs": [],
   "source": [
    "predictions = network.predict(test_batches_in[batch_num])"
   ]
  },
  {
   "cell_type": "code",
   "execution_count": 177,
   "metadata": {
    "collapsed": false,
    "deletable": true,
    "editable": true
   },
   "outputs": [
    {
     "data": {
      "image/png": "[encoded data removed]",
      "text/plain": [
       "<matplotlib.figure.Figure at 0x7fa866496f60>"
      ]
     },
     "metadata": {},
     "output_type": "display_data"
    }
   ],
   "source": [
    "plt.plot(np.array(test_batches_in[batch_num])[:,0])\n",
    "plt.plot(predictions.flatten())\n",
    "\n",
    "\n",
    "colors = ['r', 'b', 'g', 'o']\n",
    "for l, layer in enumerate(boundaries[0]):\n",
    "    for i, indicator in enumerate(layer):\n",
    "        if indicator == 1.:\n",
    "            p = 1 / len(boundaries[0])\n",
    "            plt.axvline(i, color=colors[l], ymin=(p*l), ymax=(p*(l + 1)), alpha=.3)"
   ]
  },
  {
   "cell_type": "code",
   "execution_count": 141,
   "metadata": {
    "collapsed": true
   },
   "outputs": [],
   "source": [
    "#NOTE: Underpowered networks make more use of boundaries"
   ]
  },
  {
   "cell_type": "markdown",
   "metadata": {
    "deletable": true,
    "editable": true
   },
   "source": [
    "### Text classificaiton example"
   ]
  },
  {
   "cell_type": "code",
   "execution_count": null,
   "metadata": {
    "collapsed": true,
    "deletable": true,
    "editable": true
   },
   "outputs": [],
   "source": [
    "tf.reset_default_graph()\n",
    "network = HMLSTMNetwork(output_size=29, input_size=29,\n",
    "                        embed_size=1024, out_hidden_size=500,\n",
    "                        hidden_state_sizes=200)"
   ]
  },
  {
   "cell_type": "code",
   "execution_count": null,
   "metadata": {
    "collapsed": true,
    "deletable": true,
    "editable": true
   },
   "outputs": [],
   "source": [
    "batch_size = 2\n",
    "truncate_len = 100\n",
    "num_layers = 3\n",
    "num_batches = 100\n",
    "\n",
    "inputs = prepare_inputs(\n",
    "    batch_size=batch_size, truncate_len=truncate_len, num_batches=num_batches)"
   ]
  },
  {
   "cell_type": "code",
   "execution_count": null,
   "metadata": {
    "collapsed": true,
    "deletable": true,
    "editable": true,
    "scrolled": true
   },
   "outputs": [],
   "source": [
    "# test on last input\\\n",
    "network.train(inputs[0][:-1], inputs[1][:-1], load_existing_vars=True)"
   ]
  },
  {
   "cell_type": "code",
   "execution_count": null,
   "metadata": {
    "collapsed": false,
    "deletable": true,
    "editable": true
   },
   "outputs": [],
   "source": [
    "# predictions on last input\n",
    "indicators = network.predict_boundaries(inputs[0][-1][0], reuse=True)\n",
    "indicators"
   ]
  },
  {
   "cell_type": "code",
   "execution_count": null,
   "metadata": {
    "collapsed": true,
    "deletable": true,
    "editable": true,
    "scrolled": true
   },
   "outputs": [],
   "source": [
    "# predictions on last input\n",
    "predictions = network.predict(inputs[0][-1][0], reuse=True)"
   ]
  },
  {
   "cell_type": "code",
   "execution_count": null,
   "metadata": {
    "collapsed": true,
    "deletable": true,
    "editable": true
   },
   "outputs": [],
   "source": [
    "def get_text(encoding):\n",
    "    prediction = ''\n",
    "    \n",
    "    for char in np.squeeze(encoding):\n",
    "        max_likelihood = np.where(char == np.max(char))[0][0]\n",
    "        if max_likelihood < 26:\n",
    "            prediction += ascii_lowercase[max_likelihood]\n",
    "        elif max_likelihood == 26:\n",
    "            prediction += ','\n",
    "        elif max_likelihood == 27:\n",
    "            prediction += '.'\n",
    "        elif max_likelihood == 28:\n",
    "            prediction += ' '\n",
    "    \n",
    "    return prediction"
   ]
  },
  {
   "cell_type": "code",
   "execution_count": null,
   "metadata": {
    "collapsed": false,
    "deletable": true,
    "editable": true
   },
   "outputs": [],
   "source": [
    "get_text(predictions)"
   ]
  },
  {
   "cell_type": "code",
   "execution_count": null,
   "metadata": {
    "collapsed": false,
    "deletable": true,
    "editable": true
   },
   "outputs": [],
   "source": [
    "get_text(inputs[0][-1][0][1:])"
   ]
  },
  {
   "cell_type": "code",
   "execution_count": null,
   "metadata": {
    "collapsed": true,
    "deletable": true,
    "editable": true
   },
   "outputs": [],
   "source": []
  }
 ],
 "metadata": {
  "kernelspec": {
   "display_name": "Python 3",
   "language": "python",
   "name": "python3"
  },
  "language_info": {
   "codemirror_mode": {
    "name": "ipython",
    "version": 3
   },
   "file_extension": ".py",
   "mimetype": "text/x-python",
   "name": "python",
   "nbconvert_exporter": "python",
   "pygments_lexer": "ipython3",
   "version": "3.6.0"
  }
 },
 "nbformat": 4,
 "nbformat_minor": 2
}
