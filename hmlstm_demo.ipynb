{
 "cells": [
  {
   "cell_type": "code",
   "execution_count": 1,
   "metadata": {
    "collapsed": false,
    "deletable": true,
    "editable": true
   },
   "outputs": [],
   "source": [
    "import numpy as np\n",
    "import matplotlib.pyplot as plt\n",
    "from hmlstm.hmlstm_network import HMLSTMNetwork\n",
    "from hmlstm import plot_indicators\n",
    "import tensorflow as tf\n",
    "from text_input_utils import prepare_inputs\n",
    "import tensorflow as tf\n",
    "from string import ascii_lowercase\n",
    "\n",
    "%matplotlib inline\n",
    "%load_ext autoreload\n",
    "%autoreload 2"
   ]
  },
  {
   "cell_type": "markdown",
   "metadata": {
    "deletable": true,
    "editable": true
   },
   "source": [
    "### Regression example"
   ]
  },
  {
   "cell_type": "code",
   "execution_count": 2,
   "metadata": {
    "collapsed": true,
    "deletable": true,
    "editable": true
   },
   "outputs": [],
   "source": [
    "# simulate multiresolution data\n",
    "num_signals = 300\n",
    "signal_length = 40\n",
    "x = np.linspace(0, 200 * np.pi, signal_length)\n",
    "signals = [np.random.normal(0, .5, size=signal_length) +\n",
    "           (2 * np.sin(.6 * x + np.random.random() * 100 * np.pi))\n",
    "           + (5 * np.sin(.1* x + np.random.random() * 100 * np.pi))\n",
    "           +( 10 * np.sin(.03 * x + np.random.random() * 100 * np.pi))\n",
    "    for _ in range(num_signals)]\n",
    "\n",
    "split = int(num_signals * .8)\n",
    "train = signals[:split]\n",
    "test = signals[split:]"
   ]
  },
  {
   "cell_type": "code",
   "execution_count": 3,
   "metadata": {
    "collapsed": false,
    "deletable": true,
    "editable": true
   },
   "outputs": [
    {
     "data": {
      "image/png": "[encoded data removed]",
      "text/plain": [
       "<matplotlib.figure.Figure at 0x7f3e33457b38>"
      ]
     },
     "metadata": {},
     "output_type": "display_data"
    }
   ],
   "source": [
    "# example signal\n",
    "plt.plot(x, signals[2]);"
   ]
  },
  {
   "cell_type": "code",
   "execution_count": 4,
   "metadata": {
    "collapsed": true,
    "deletable": true,
    "editable": true,
    "scrolled": true
   },
   "outputs": [],
   "source": [
    "# prepare data\n",
    "train_batches_in = []\n",
    "train_batches_out = []\n",
    "batch_size = 10\n",
    "start = 0\n",
    "while start + batch_size < len(train):\n",
    "    batch = train[start: start + batch_size]\n",
    "    \n",
    "    train_batches_in.append(np.array([s[:-1] for s in batch]).reshape(batch_size, -1, 1))\n",
    "    train_batches_out.append(np.array([s[1:] for s in batch]).reshape(batch_size, -1, 1))\n",
    "\n",
    "    start += batch_size\n",
    "    \n",
    "    \n",
    "batch_size = 2\n",
    "start = 0\n",
    "test_batches_in = []\n",
    "test_batches_out = []\n",
    "while start + batch_size < len(test):\n",
    "    batch = test[start: start + batch_size]\n",
    "    \n",
    "    test_batches_in.append(np.array([s[:-1] for s in batch]).reshape(batch_size, -1, 1))\n",
    "    test_batches_out.append(np.array([s[1:] for s in batch]).reshape(batch_size, -1, 1))\n",
    "\n",
    "    start += batch_size\n"
   ]
  },
  {
   "cell_type": "code",
   "execution_count": 5,
   "metadata": {
    "collapsed": true,
    "deletable": true,
    "editable": true
   },
   "outputs": [],
   "source": [
    "tf.reset_default_graph()\n",
    "network = HMLSTMNetwork(input_size=1, task='regression', hidden_state_sizes=13,\n",
    "                       embed_size=20, out_hidden_size=13, num_layers=3)"
   ]
  },
  {
   "cell_type": "code",
   "execution_count": 6,
   "metadata": {
    "collapsed": false,
    "deletable": true,
    "editable": true,
    "scrolled": true
   },
   "outputs": [
    {
     "name": "stdout",
     "output_type": "stream",
     "text": [
      "Epoch 0\n",
      "loss: 64.7286\n",
      "loss: 64.8358\n",
      "loss: 64.9887\n",
      "loss: 64.555\n",
      "loss: 64.2613\n",
      "loss: 63.783\n",
      "loss: 64.293\n",
      "loss: 64.2687\n",
      "loss: 64.1451\n",
      "loss: 63.6549\n",
      "loss: 63.8638\n",
      "loss: 63.9243\n",
      "loss: 63.9785\n",
      "loss: 63.3851\n",
      "loss: 63.8879\n",
      "loss: 63.2058\n",
      "loss: 63.3518\n",
      "loss: 63.4843\n",
      "loss: 62.666\n",
      "loss: 63.0044\n",
      "loss: 62.7967\n",
      "loss: 63.6331\n",
      "loss: 63.1847\n",
      "saving variables...\n"
     ]
    }
   ],
   "source": [
    "network.train(train_batches_in, train_batches_out, epochs=1, load_vars_from_disk=False)"
   ]
  },
  {
   "cell_type": "code",
   "execution_count": 7,
   "metadata": {
    "collapsed": true,
    "deletable": true,
    "editable": true
   },
   "outputs": [],
   "source": [
    "batch_num = 3"
   ]
  },
  {
   "cell_type": "code",
   "execution_count": 8,
   "metadata": {
    "collapsed": false,
    "deletable": true,
    "editable": true,
    "scrolled": false
   },
   "outputs": [
    {
     "name": "stdout",
     "output_type": "stream",
     "text": [
      "[[[ 1.  0.  0.  1.  0.  0.  0.  1.  1.  1.  1.  1.  1.  0.  1.  0.  0.  0.\n",
      "    0.  0.  0.  0.  1.  1.  1.  1.  1.  1.  0.  0.  0.  0.  0.  0.  1.  1.\n",
      "    1.  1.  1.]\n",
      "  [ 0.  0.  0.  1.  1.  0.  0.  0.  0.  0.  0.  0.  0.  1.  0.  0.  0.  0.\n",
      "    0.  0.  0.  0.  0.  0.  0.  0.  0.  0.  0.  0.  0.  0.  0.  0.  0.  0.\n",
      "    0.  0.  0.]\n",
      "  [ 0.  0.  0.  0.  0.  1.  1.  1.  0.  1.  1.  0.  0.  1.  1.  1.  0.  0.\n",
      "    0.  0.  0.  0.  0.  0.  0.  0.  0.  0.  0.  0.  0.  0.  0.  0.  0.  0.\n",
      "    0.  0.  0.]]\n",
      "\n",
      " [[ 0.  0.  0.  0.  0.  0.  1.  1.  1.  1.  1.  1.  1.  0.  0.  0.  0.  0.\n",
      "    0.  1.  1.  1.  1.  1.  1.  0.  0.  1.  0.  0.  0.  1.  1.  1.  1.  1.\n",
      "    1.  0.  1.]\n",
      "  [ 0.  0.  0.  0.  0.  0.  1.  0.  0.  0.  0.  0.  0.  0.  0.  0.  0.  0.\n",
      "    0.  0.  0.  0.  0.  0.  1.  1.  0.  1.  1.  0.  0.  1.  0.  0.  0.  0.\n",
      "    0.  1.  0.]\n",
      "  [ 0.  0.  0.  0.  0.  0.  0.  1.  1.  0.  1.  1.  1.  0.  0.  0.  0.  0.\n",
      "    0.  0.  0.  0.  0.  0.  1.  1.  0.  0.  0.  1.  1.  0.  1.  1.  0.  1.\n",
      "    1.  1.  1.]]]\n"
     ]
    }
   ],
   "source": [
    "boundaries = network.predict_boundaries(test_batches_in[batch_num])\n",
    "print(boundaries)"
   ]
  },
  {
   "cell_type": "code",
   "execution_count": 9,
   "metadata": {
    "collapsed": false,
    "deletable": true,
    "editable": true,
    "scrolled": false
   },
   "outputs": [],
   "source": [
    "predictions = network.predict(test_batches_in[batch_num])"
   ]
  },
  {
   "cell_type": "code",
   "execution_count": 17,
   "metadata": {
    "collapsed": false,
    "deletable": true,
    "editable": true
   },
   "outputs": [
    {
     "data": {
      "image/png": "[encoded data removed]",
      "text/plain": [
       "<matplotlib.figure.Figure at 0x7f7e22cdc940>"
      ]
     },
     "metadata": {},
     "output_type": "display_data"
    }
   ],
   "source": [
    "plot_indicators(test_batches_in[batch_num][0], predictions[0], indicators=boundaries[0]);"
   ]
  },
  {
   "cell_type": "code",
   "execution_count": 11,
   "metadata": {
    "collapsed": true,
    "deletable": true,
    "editable": true
   },
   "outputs": [],
   "source": [
    "#NOTE: Underpowered networks make more use of boundaries"
   ]
  },
  {
   "cell_type": "markdown",
   "metadata": {
    "deletable": true,
    "editable": true
   },
   "source": [
    "### Text classificaiton example"
   ]
  },
  {
   "cell_type": "code",
   "execution_count": 2,
   "metadata": {
    "collapsed": true,
    "deletable": true,
    "editable": true
   },
   "outputs": [],
   "source": [
    "tf.reset_default_graph()\n",
    "network = HMLSTMNetwork(output_size=29, input_size=29,\n",
    "                        embed_size=1024, out_hidden_size=500,\n",
    "                        hidden_state_sizes=500, \n",
    "                       task='classification')"
   ]
  },
  {
   "cell_type": "code",
   "execution_count": 13,
   "metadata": {
    "collapsed": false,
    "deletable": true,
    "editable": true
   },
   "outputs": [],
   "source": [
    "batch_size = 10\n",
    "truncate_len = 1000\n",
    "num_layers = 3\n",
    "num_batches = 20\n",
    "\n",
    "inputs = prepare_inputs(\n",
    "    batch_size=batch_size, truncate_len=truncate_len, num_batches=num_batches)"
   ]
  },
  {
   "cell_type": "code",
   "execution_count": 14,
   "metadata": {
    "collapsed": false,
    "deletable": true,
    "editable": true
   },
   "outputs": [],
   "source": [
    "ins = np.array(inputs[0])\n",
    "outs = np.array(inputs[1])"
   ]
  },
  {
   "cell_type": "code",
   "execution_count": null,
   "metadata": {
    "collapsed": false,
    "deletable": true,
    "editable": true
   },
   "outputs": [
    {
     "name": "stdout",
     "output_type": "stream",
     "text": [
      "(20, 10, 1000, 29)\n",
      "(20, 10, 1000, 29)\n"
     ]
    }
   ],
   "source": [
    "print(ins.shape)\n",
    "print(outs.shape)"
   ]
  },
  {
   "cell_type": "code",
   "execution_count": null,
   "metadata": {
    "collapsed": false,
    "deletable": true,
    "editable": true,
    "scrolled": true
   },
   "outputs": [
    {
     "name": "stdout",
     "output_type": "stream",
     "text": [
      "Epoch 0\n",
      "loss: 2.64853\n",
      "loss: 2.62743\n",
      "loss: 2.61411\n",
      "loss: 2.56177\n",
      "loss: 2.49725\n",
      "loss: 2.50744\n",
      "loss: 2.46088\n",
      "loss: 2.41505\n",
      "loss: 2.48229\n",
      "loss: 2.47959\n",
      "loss: 2.475\n",
      "loss: 2.40246\n",
      "loss: 2.42977\n",
      "loss: 2.37717\n",
      "loss: 2.39545\n",
      "loss: 2.40337\n",
      "loss: 2.36147\n",
      "loss: 2.34817\n",
      "loss: 2.3094\n",
      "loss: 2.32877\n",
      "Epoch 1\n",
      "loss: 2.36615\n",
      "loss: 2.35703\n",
      "loss: 2.34848\n",
      "loss: 2.3226\n",
      "loss: 2.29355\n",
      "loss: 2.25462\n",
      "loss: 2.27982\n",
      "loss: 2.2273\n",
      "loss: 2.27041\n",
      "loss: 2.28272\n",
      "loss: 2.30476\n",
      "loss: 2.1998\n",
      "loss: 2.24114\n",
      "loss: 2.22359\n",
      "loss: 2.22821\n",
      "loss: 2.2389\n",
      "loss: 2.22388\n",
      "loss: 2.1966\n",
      "loss: 2.17398\n",
      "loss: 2.18925\n",
      "Epoch 2\n",
      "loss: 2.23327\n",
      "loss: 2.20479\n",
      "loss: 2.2124\n",
      "loss: 2.177\n",
      "loss: 2.16638\n",
      "loss: 2.12344\n",
      "loss: 2.1594\n",
      "loss: 2.1014\n",
      "loss: 2.15834\n",
      "loss: 2.16149\n",
      "loss: 2.19506\n"
     ]
    }
   ],
   "source": [
    "# test on last input\\\n",
    "network.train(ins, outs, load_vars_from_disk=True, save_vars_to_disk=True)"
   ]
  },
  {
   "cell_type": "code",
   "execution_count": null,
   "metadata": {
    "collapsed": true,
    "deletable": true,
    "editable": true
   },
   "outputs": [],
   "source": [
    "batch_number = 2"
   ]
  },
  {
   "cell_type": "code",
   "execution_count": null,
   "metadata": {
    "collapsed": false,
    "deletable": true,
    "editable": true
   },
   "outputs": [],
   "source": [
    "# predictions on last input\n",
    "indicators = network.predict_boundaries(np.array(ins[batch_number]))\n",
    "indicators[0]"
   ]
  },
  {
   "cell_type": "code",
   "execution_count": null,
   "metadata": {
    "collapsed": false,
    "deletable": true,
    "editable": true,
    "scrolled": true
   },
   "outputs": [],
   "source": [
    "# predictions on last input\n",
    "predictions = network.predict(ins[batch_number])"
   ]
  },
  {
   "cell_type": "code",
   "execution_count": null,
   "metadata": {
    "collapsed": true,
    "deletable": true,
    "editable": true
   },
   "outputs": [],
   "source": [
    "def get_text(encoding):\n",
    "    prediction = ''\n",
    "    \n",
    "    for char in np.squeeze(encoding):\n",
    "        max_likelihood = np.where(char == np.max(char))[0][0]\n",
    "        if max_likelihood < 26:\n",
    "            prediction += ascii_lowercase[max_likelihood]\n",
    "        elif max_likelihood == 26:\n",
    "            prediction += ','\n",
    "        elif max_likelihood == 27:\n",
    "            prediction += '.'\n",
    "        elif max_likelihood == 28:\n",
    "            prediction += ' '\n",
    "    \n",
    "    return prediction"
   ]
  },
  {
   "cell_type": "code",
   "execution_count": null,
   "metadata": {
    "collapsed": false,
    "deletable": true,
    "editable": true
   },
   "outputs": [],
   "source": [
    "get_text(predictions[0])"
   ]
  },
  {
   "cell_type": "code",
   "execution_count": null,
   "metadata": {
    "collapsed": false,
    "deletable": true,
    "editable": true
   },
   "outputs": [],
   "source": [
    "get_text(ins[batch_number][0, 1:])"
   ]
  },
  {
   "cell_type": "code",
   "execution_count": null,
   "metadata": {
    "collapsed": true,
    "deletable": true,
    "editable": true
   },
   "outputs": [],
   "source": []
  }
 ],
 "metadata": {
  "kernelspec": {
   "display_name": "Python 3",
   "language": "python",
   "name": "python3"
  },
  "language_info": {
   "codemirror_mode": {
    "name": "ipython",
    "version": 3
   },
   "file_extension": ".py",
   "mimetype": "text/x-python",
   "name": "python",
   "nbconvert_exporter": "python",
   "pygments_lexer": "ipython3",
   "version": "3.6.0"
  }
 },
 "nbformat": 4,
 "nbformat_minor": 2
}
